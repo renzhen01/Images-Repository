{
 "cells": [
  {
   "cell_type": "markdown",
   "metadata": {},
   "source": [
    "# Titanic幸存者预测\n",
    "* ## 1、介绍\n",
    "* ## 2、数据导入与检查\n",
    "* ## 3、数据探索\n",
    "* ## 4、数据清洗、转换、规约\n",
    "* ## 5、建模"
   ]
  },
  {
   "cell_type": "markdown",
   "metadata": {},
   "source": [
    "## 1、介绍\n",
    "### 该项目是Kaggle上的入门项目，用于预测泰坦尼克号上，哪些乘客能幸存\n"
   ]
  },
  {
   "cell_type": "markdown",
   "metadata": {},
   "source": [
    "## 2、数据导入与检查"
   ]
  },
  {
   "cell_type": "markdown",
   "metadata": {},
   "source": [
    "* ### 2.1相关包导入"
   ]
  },
  {
   "cell_type": "code",
   "execution_count": null,
   "metadata": {},
   "outputs": [],
   "source": [
    "import numpy as np\n",
    "import pandas as pd\n",
    "import matplotlib.pyplot as plt\n",
    "import seaborn as sns\n",
    "\n",
    "from collections import Counter\n",
    "\n",
    "from sklearn.ensemble import RandomForestClassifier, AdaBoostClassifier, GradientBoostingClassifier, ExtraTreesClassifier, VotingClassifier\n",
    "from sklearn.discriminant_analysis import LinearDiscriminantAnalysis\n",
    "from sklearn.linear_model import LogisticRegression\n",
    "from sklearn.neighbors import KNeighborsClassifier\n",
    "from sklearn.tree import DecisionTreeClassifier\n",
    "from sklearn.neural_network import MLPClassifier\n",
    "from sklearn.svm import SVC\n",
    "from sklearn.model_selection import GridSearchCV, cross_val_score, StratifiedKFold, learning_curve\n",
    "\n",
    "sns.set(style='white', context='notebook', palette='deep')\n"
   ]
  },
  {
   "cell_type": "markdown",
   "metadata": {},
   "source": [
    "* ### 2.2数据导入"
   ]
  },
  {
   "cell_type": "code",
   "execution_count": null,
   "metadata": {},
   "outputs": [],
   "source": [
    "train = pd.read_csv('C:/Users/loukey/Desktop/RGL/Tatanic/data/train.csv')\n",
    "test = pd.read_csv('C:/Users/loukey/Desktop/RGL/Tatanic/data/test.csv')"
   ]
  },
  {
   "cell_type": "markdown",
   "metadata": {},
   "source": [
    "* ### 2.3数据检查"
   ]
  },
  {
   "cell_type": "markdown",
   "metadata": {},
   "source": [
    "* #### 2.3.1异常值处理"
   ]
  },
  {
   "cell_type": "code",
   "execution_count": null,
   "metadata": {},
   "outputs": [],
   "source": [
    "def detect_outliers(df,n,features):\n",
    "    outlier_indexs=[]\n",
    "    for col in features :\n",
    "        Q1 = np.percentile(df[col],25)\n",
    "        Q3 = np.percentile(df[col],75)\n",
    "        IQR = Q3-Q1\n",
    "        outlier_step = 1.5*IQR\n",
    "        indexs = df[col][ (df[col]<Q1 - outlier_step) | (df[col] > Q3 + outlier_step)].index\n",
    "        outlier_indexs.extend(indexs)\n",
    "    indexs_counter = Counter(outlier_indexs)\n",
    "    multi_indexs = list(k for k,v in indexs_counter.items() if v>n)\n",
    "    return multi_indexs\n",
    "\n",
    "outliers_drop=detect_outliers(train,2,['Age','SibSp','Parch','Fare'])\n",
    "train.loc[outliers_drop]\n"
   ]
  },
  {
   "cell_type": "code",
   "execution_count": null,
   "metadata": {},
   "outputs": [],
   "source": [
    "# dorp it!\n",
    "train.drop(outliers_drop,axis=0).reset_index(drop=True)"
   ]
  },
  {
   "cell_type": "markdown",
   "metadata": {},
   "source": [
    "* #### 2.3.2空值缺失值查看"
   ]
  },
  {
   "cell_type": "code",
   "execution_count": null,
   "metadata": {},
   "outputs": [],
   "source": [
    "# join train and test set\n",
    "dataset = pd.concat([train,test],axis=0).reset_index(drop=True)\n",
    "dataset=dataset.fillna(np.NaN)\n",
    "\n",
    "dataset.isnull().sum()\n"
   ]
  },
  {
   "cell_type": "code",
   "execution_count": null,
   "metadata": {},
   "outputs": [],
   "source": [
    "dataset.describe()"
   ]
  },
  {
   "cell_type": "code",
   "execution_count": null,
   "metadata": {},
   "outputs": [],
   "source": [
    "train.isnull().sum()"
   ]
  },
  {
   "cell_type": "markdown",
   "metadata": {},
   "source": [
    "### 可见Age和Cabin的缺失度较高，考虑做填充处理"
   ]
  },
  {
   "cell_type": "markdown",
   "metadata": {},
   "source": [
    "## 3、数据探索"
   ]
  },
  {
   "cell_type": "markdown",
   "metadata": {},
   "source": [
    "* ### 3.1连续值分布"
   ]
  },
  {
   "cell_type": "markdown",
   "metadata": {},
   "source": [
    " &emsp; __heatmap__"
   ]
  },
  {
   "cell_type": "code",
   "execution_count": null,
   "metadata": {},
   "outputs": [],
   "source": [
    "g = sns.heatmap(train[ ['Survived','Age','SibSp','Parch','Fare'] ].corr(),fmt='.2f',annot=True,cmap='coolwarm')"
   ]
  },
  {
   "cell_type": "markdown",
   "metadata": {},
   "source": [
    "&emsp;与目标变量Survived相关性强的只有Fare，其他相关性低，但不代表不重要，因为相关系数只是衡量线性相关而已。  \n",
    "&emsp;我们进一步探索其与目标变量的关系"
   ]
  },
  {
   "cell_type": "markdown",
   "metadata": {},
   "source": [
    "&emsp;__SibSp__"
   ]
  },
  {
   "cell_type": "code",
   "execution_count": null,
   "metadata": {},
   "outputs": [],
   "source": [
    "g = sns.factorplot(x='SibSp',y='Survived',data=train,kind='bar',size=6)\n",
    "g.set_ylabels('survival probability')"
   ]
  },
  {
   "cell_type": "markdown",
   "metadata": {},
   "source": [
    "&emsp;可以出随着兄弟姐妹的增加，生存几率在减小。  \n",
    "&emsp;单身、1-2个同伴的生存概率更大。  \n",
    "&emsp;由此，我们可以衍生出同伴人数的特征变量。\n"
   ]
  },
  {
   "cell_type": "markdown",
   "metadata": {},
   "source": [
    "&emsp;__Parch__"
   ]
  },
  {
   "cell_type": "code",
   "execution_count": null,
   "metadata": {},
   "outputs": [],
   "source": [
    "g = sns.factorplot(x='Parch',y='Survived',data=train,kind='bar',size=6)\n",
    "g.set_ylabels('survived probability')"
   ]
  },
  {
   "cell_type": "markdown",
   "metadata": {},
   "source": [
    "&emsp;与SibSp的分布类似，家庭规模越大，生存几率越小。  \n",
    "&emsp;中等规模家庭（1-3）的生存几率最大，大型家庭（5-6人）生存几率最小。  \n",
    "&emsp;可以衍生出家庭规模的特征变量，但是注意，3人家庭分布存在很大的方差。"
   ]
  },
  {
   "cell_type": "markdown",
   "metadata": {},
   "source": [
    "&emsp;__Age__"
   ]
  },
  {
   "cell_type": "code",
   "execution_count": null,
   "metadata": {},
   "outputs": [],
   "source": [
    "g = sns.distplot(train['Age'][ (train['Survived'] == 0) & (train['Age'].notnull()) ],color='Red',hist=False)\n",
    "g = sns.distplot(train['Age'][ (train['Survived'] == 1) & (train['Age'].notnull()) ],color='Blue',hist=False)\n",
    "g.set_xlabel('Age')\n",
    "g.set_ylabel('Frequency')\n",
    "g = g.legend(['Not Survived','Survived'])"
   ]
  },
  {
   "cell_type": "markdown",
   "metadata": {},
   "source": [
    "&emsp;可以看出年龄大致呈高斯分布。  \n",
    "&emsp;而且在Survived和非Survived中，两者有一定差异，尤其在0-5岁区间，Survived明显凸起，说明该年龄段的生存率偏高。  \n",
    "&emsp;而70岁以上的老人明显生产记录较低，所以虽然Age不与Survived直接线性相关，但是不可否认其对目标变量的区分度。"
   ]
  },
  {
   "cell_type": "markdown",
   "metadata": {},
   "source": [
    "&emsp;__Fare__"
   ]
  },
  {
   "cell_type": "code",
   "execution_count": null,
   "metadata": {},
   "outputs": [],
   "source": [
    "#前面探索发现Fare有缺失值，画图时有缺失值会报错，故先用中位数填充空值\n",
    "dataset['Fare'] = dataset['Fare'].fillna(dataset['Fare'].median())\n",
    "g = sns.distplot(dataset['Fare'],label='Skewness:%.2f'%(dataset['Fare'].skew()))\n",
    "g = g.legend(loc='best')"
   ]
  },
  {
   "cell_type": "markdown",
   "metadata": {},
   "source": [
    "&emsp;偏度过大，会使得某些值对模型影响过大，取对数平滑"
   ]
  },
  {
   "cell_type": "code",
   "execution_count": null,
   "metadata": {},
   "outputs": [],
   "source": [
    "dataset['Fare'] = dataset['Fare'].map(lambda x:np.log(x) if x>0 else 0)\n",
    "g = sns.distplot(dataset['Fare'],label='Skewness:%.2f'%(dataset['Fare'].skew()))\n",
    "g.legend(loc='best')"
   ]
  },
  {
   "cell_type": "markdown",
   "metadata": {},
   "source": [
    "&emsp;偏度下降很明显"
   ]
  },
  {
   "cell_type": "markdown",
   "metadata": {},
   "source": [
    "* ### 3.2离散值分布"
   ]
  },
  {
   "cell_type": "markdown",
   "metadata": {},
   "source": [
    "&emsp;__Sex__"
   ]
  },
  {
   "cell_type": "code",
   "execution_count": null,
   "metadata": {},
   "outputs": [],
   "source": [
    "g = sns.factorplot(x='Sex',y='Survived',data=train,kind='bar')\n",
    "g = g.set_ylabels('survival probability')"
   ]
  },
  {
   "cell_type": "code",
   "execution_count": null,
   "metadata": {},
   "outputs": [],
   "source": [
    "train[['Survived','Sex']].groupby('Sex').mean()"
   ]
  },
  {
   "cell_type": "markdown",
   "metadata": {},
   "source": [
    "&emsp;很明显，女性比男性的生存率高的多，女士优先原则！"
   ]
  },
  {
   "cell_type": "markdown",
   "metadata": {},
   "source": [
    "&emsp;__Pclass__"
   ]
  },
  {
   "cell_type": "code",
   "execution_count": null,
   "metadata": {},
   "outputs": [],
   "source": [
    "g = sns.factorplot(x='Pclass',y='Survived',data=train,kind='bar')\n",
    "g = g.set_ylabels('survival probability')"
   ]
  },
  {
   "cell_type": "code",
   "execution_count": null,
   "metadata": {},
   "outputs": [],
   "source": [
    "train[['Survived','Pclass']].groupby('Pclass').mean()"
   ]
  },
  {
   "cell_type": "code",
   "execution_count": null,
   "metadata": {},
   "outputs": [],
   "source": [
    "g = sns.factorplot(x='Pclass',y='Survived',data=train,hue='Sex',kind='bar',size=4)\n",
    "g.set_ylabels('survival probability')"
   ]
  },
  {
   "cell_type": "markdown",
   "metadata": {},
   "source": [
    "&emsp;船舱等级越高，生存率越高，这对男女都一样。"
   ]
  },
  {
   "cell_type": "markdown",
   "metadata": {},
   "source": [
    "&emsp;__Embarked__"
   ]
  },
  {
   "cell_type": "code",
   "execution_count": null,
   "metadata": {},
   "outputs": [],
   "source": [
    "dataset['Embarked'].isnull().sum()"
   ]
  },
  {
   "cell_type": "code",
   "execution_count": null,
   "metadata": {},
   "outputs": [],
   "source": [
    "dataset['Embarked'].describe()"
   ]
  },
  {
   "cell_type": "code",
   "execution_count": null,
   "metadata": {},
   "outputs": [],
   "source": [
    "#用众数填充\n",
    "dataset['Embarked'] = dataset['Embarked'].fillna('S')"
   ]
  },
  {
   "cell_type": "code",
   "execution_count": null,
   "metadata": {},
   "outputs": [],
   "source": [
    "g = sns.factorplot(x='Embarked',y='Survived',data=train,kind='bar')\n",
    "g = g.set_ylabels('survived probability')"
   ]
  },
  {
   "cell_type": "markdown",
   "metadata": {},
   "source": [
    "&emsp;分布没有明显区分度，但C处生存率比较高，猜测上车点跟船舱等级Pclass有关系，C处上船的人可能处于较高的船舱等级。"
   ]
  },
  {
   "cell_type": "code",
   "execution_count": null,
   "metadata": {},
   "outputs": [],
   "source": [
    "g = sns.factorplot(x='Embarked',y='Survived',data=train,hue='Pclass',kind='bar')\n",
    "g = g.set_ylabels('survived probability')"
   ]
  },
  {
   "cell_type": "markdown",
   "metadata": {},
   "source": [
    "&emsp;在S和C处，头等舱的人数占比偏大，我们再看人数的分布。"
   ]
  },
  {
   "cell_type": "code",
   "execution_count": null,
   "metadata": {},
   "outputs": [],
   "source": [
    "g = sns.factorplot(x='Pclass',col='Embarked',data=train,kind='count',size=6)\n",
    "g = g.set_ylabels('Count')"
   ]
  },
  {
   "cell_type": "markdown",
   "metadata": {},
   "source": [
    "&emsp;从S上船的人大多都坐的3等座，而Q处基本全是3等座，所以Q处上船的人相对来说生产几率更小"
   ]
  },
  {
   "cell_type": "markdown",
   "metadata": {},
   "source": [
    "* ## 4、数据清洗、转换、规约"
   ]
  },
  {
   "cell_type": "markdown",
   "metadata": {},
   "source": [
    "* ### 4.1数据清洗、转换"
   ]
  },
  {
   "cell_type": "markdown",
   "metadata": {},
   "source": [
    "&emsp;前面得到小孩具有更大的生产几率，老人生产几率很低。  \n",
    "&emsp;说明Age具有一定区分度，插值法有很多，如均值、中位数和众数，复杂一点的有拉格朗日插值法和牛顿插值法等。我们这里利用关联变量去预测年龄值。  \n",
    "&emsp;用这几个关联特征：Name,Sex,SibSp,Parch，选择Name是因为其开头为Mr、Miss等可以框定年龄范围，故先对Name属性进行截取和离散化"
   ]
  },
  {
   "cell_type": "markdown",
   "metadata": {},
   "source": [
    "&emsp;__Name__"
   ]
  },
  {
   "cell_type": "code",
   "execution_count": null,
   "metadata": {},
   "outputs": [],
   "source": [
    "dataset['Name'].head()"
   ]
  },
  {
   "cell_type": "code",
   "execution_count": null,
   "metadata": {},
   "outputs": [],
   "source": [
    "dataset['Title']=dataset['Name'].map(lambda x:x.split(',')[1].split('.')[0].strip(' '))"
   ]
  },
  {
   "cell_type": "code",
   "execution_count": null,
   "metadata": {},
   "outputs": [],
   "source": [
    "g = sns.countplot(x='Title',data=dataset)\n",
    "g = plt.setp(g.get_xticklabels(),rotation=45)"
   ]
  },
  {
   "cell_type": "code",
   "execution_count": null,
   "metadata": {},
   "outputs": [],
   "source": [
    "dataset[\"Title\"] = dataset[\"Title\"].replace(['Lady', 'the Countess','Countess','Capt', 'Col','Don', 'Dr', 'Major', 'Rev', 'Sir', 'Jonkheer',\n",
    "                                             'Dona'], 'Rare')\n",
    "dataset[\"Title\"] = dataset[\"Title\"].map({\"Master\":0, \"Miss\":1, \"Ms\" : 1 , \"Mme\":1, \"Mlle\":1, \"Mrs\":1, \"Mr\":2, \"Rare\":3})\n",
    "dataset[\"Title\"] = dataset[\"Title\"].astype(int)"
   ]
  },
  {
   "cell_type": "code",
   "execution_count": null,
   "metadata": {},
   "outputs": [],
   "source": [
    "g = sns.countplot(dataset['Title'])\n",
    "g = g.set_xticklabels(['Master','Miss/Ms/Mme/Mlle/Mrs','Mr','Rare'])"
   ]
  },
  {
   "cell_type": "code",
   "execution_count": null,
   "metadata": {},
   "outputs": [],
   "source": [
    "g = sns.factorplot(x='Title',y='Survived',data=dataset,kind='bar')\n",
    "g = g.set_xticklabels(['Master','Miss','Mr','Rare'])\n",
    "g = g.set_ylabels('survival probability')"
   ]
  },
  {
   "cell_type": "markdown",
   "metadata": {},
   "source": [
    "&emsp;小孩和女人优先！"
   ]
  },
  {
   "cell_type": "code",
   "execution_count": null,
   "metadata": {},
   "outputs": [],
   "source": [
    "dataset.drop('Name',axis=1,inplace=True)"
   ]
  },
  {
   "cell_type": "markdown",
   "metadata": {},
   "source": [
    "&emsp;__Age__"
   ]
  },
  {
   "cell_type": "markdown",
   "metadata": {},
   "source": [
    "&emsp;用这几个关联特征：Title,Sex,Pclass,SibSp,Parch,"
   ]
  },
  {
   "cell_type": "code",
   "execution_count": null,
   "metadata": {},
   "outputs": [],
   "source": [
    "g = sns.factorplot(x='Title',y='Age',data=dataset,kind='box')\n",
    "g = sns.factorplot(x='Sex',y='Age',hue='Pclass',data=dataset,kind='box') #在性别上分布无差异，引入Pclass\n",
    "g = sns.factorplot(x='Pclass',y='Age',data=dataset,kind='box')\n",
    "g = sns.factorplot(x='SibSp',y='Age',data=dataset,kind='box')\n",
    "g = sns.factorplot(x='Parch',y='Age',data=dataset,kind='box')"
   ]
  },
  {
   "cell_type": "markdown",
   "metadata": {},
   "source": [
    "&emsp;性别对年龄无区分度。  \n",
    "&emsp;船舱等级越高，年龄越大。  \n",
    "&emsp;同伴越多越年轻，长辈/晚辈越多，年级越大。"
   ]
  },
  {
   "cell_type": "code",
   "execution_count": null,
   "metadata": {},
   "outputs": [],
   "source": [
    "dataset['Sex'] = dataset['Sex'].map({'male':0,'female':1})"
   ]
  },
  {
   "cell_type": "code",
   "execution_count": null,
   "metadata": {},
   "outputs": [],
   "source": [
    "g = sns.heatmap(dataset[['Age','Title','Sex','SibSp','Parch','Pclass']].corr(),cmap='coolwarm',annot=True)"
   ]
  },
  {
   "cell_type": "markdown",
   "metadata": {},
   "source": [
    "&emsp;Sex基本不相关，其他都可用，我们用Title,SibSp,Parch,Pclass相似的人的年龄中位数来代替缺失值。"
   ]
  },
  {
   "cell_type": "code",
   "execution_count": null,
   "metadata": {},
   "outputs": [],
   "source": [
    "age_nan_index = dataset['Age'].isnull().index\n",
    "age_median = dataset['Age'].median()\n",
    "for i in age_nan_index:    \n",
    "    age_pred = dataset['Age'][((dataset.iloc[i]['Title'] == dataset['Title']) & (dataset.iloc[i]['SibSp'] == dataset['SibSp']) \n",
    "                              & (dataset.iloc[i]['Parch'] ==dataset['Parch']) & (dataset.iloc[i]['Pclass'] == dataset['Pclass']))].median()\n",
    "    if not np.isnan(age_pred):\n",
    "        dataset['Age'].iloc[i] = age_pred\n",
    "    else:\n",
    "        dataset['Age'].iloc[i] = age_median"
   ]
  },
  {
   "cell_type": "code",
   "execution_count": null,
   "metadata": {},
   "outputs": [],
   "source": []
  }
 ],
 "metadata": {
  "kernelspec": {
   "display_name": "Python 3",
   "language": "python",
   "name": "python3"
  },
  "language_info": {
   "codemirror_mode": {
    "name": "ipython",
    "version": 3
   },
   "file_extension": ".py",
   "mimetype": "text/x-python",
   "name": "python",
   "nbconvert_exporter": "python",
   "pygments_lexer": "ipython3",
   "version": "3.6.4"
  }
 },
 "nbformat": 4,
 "nbformat_minor": 2
}
